{
 "cells": [
  {
   "cell_type": "code",
   "execution_count": 1,
   "metadata": {},
   "outputs": [],
   "source": [
    "# -*-coding: utf-8 -*-\n",
    "# 对txt文件进行中文分词\n",
    "import jieba\n",
    "import os\n",
    "from utils import files_processing\n",
    "\n",
    "# 源文件所在目录\n",
    "source_folder = './three_kingdoms/source'\n",
    "segment_folder = './three_kingdoms/segment'"
   ]
  },
  {
   "cell_type": "code",
   "execution_count": 4,
   "metadata": {},
   "outputs": [
    {
     "name": "stderr",
     "output_type": "stream",
     "text": [
      "Building prefix dict from the default dictionary ...\n",
      "Loading model from cache C:\\Users\\ADMINI~1\\AppData\\Local\\Temp\\jieba.cache\n",
      "Loading model cost 1.198 seconds.\n",
      "Prefix dict has been built succesfully.\n"
     ]
    }
   ],
   "source": [
    "#  字词分割，对整个文件内容进行字词分割\n",
    "def segment_lines(file_list,segment_out_dir,stopwords=[]):\n",
    "    for i,file in enumerate(file_list):\n",
    "        segment_out_name=os.path.join(segment_out_dir,'segment_{}.txt'.format(i))\n",
    "        with open(file, 'rb') as f:\n",
    "            document = f.read()\n",
    "            document_cut = jieba.cut(document)\n",
    "            sentence_segment=[]\n",
    "            for word in document_cut:\n",
    "                if word not in stopwords:\n",
    "                    sentence_segment.append(word)\n",
    "            result = ' '.join(sentence_segment)\n",
    "            result = result.encode('utf-8')\n",
    "            with open(segment_out_name, 'wb') as f2:\n",
    "                f2.write(result)\n",
    "\n",
    "# 对source中的txt文件进行分词，输出到segment目录中\n",
    "file_list=files_processing.get_files_list(source_folder, postfix='*.txt')\n",
    "segment_lines(file_list, segment_folder)\n"
   ]
  },
  {
   "cell_type": "code",
   "execution_count": 12,
   "metadata": {},
   "outputs": [
    {
     "name": "stdout",
     "output_type": "stream",
     "text": [
      "[('孙权', 0.9886712431907654), ('先主', 0.9837744832038879), ('众将', 0.9813681840896606), ('往', 0.9800786972045898), ('夫人', 0.9793328046798706), ('书', 0.9788529872894287), ('孔明谓', 0.9787090420722961), ('袁绍', 0.9783845543861389), ('报', 0.9777935743331909), ('荆州', 0.9775213003158569)]\n",
      "[('臣', 0.9902024269104004), ('今', 0.9880971908569336), ('丞相', 0.9873654246330261), ('朕', 0.9846106767654419), ('坐守', 0.9829933643341064), ('无忧', 0.982245147228241), ('非', 0.981597900390625), ('陛下', 0.9808411002159119), ('何以', 0.9797478318214417), ('主公', 0.9794127941131592)]\n"
     ]
    }
   ],
   "source": [
    "# -*-coding: utf-8 -*-\n",
    "# 先运行 word_seg进行中文分词，然后再进行word_similarity计算\n",
    "# 将Word转换成Vec，然后计算相似度 \n",
    "# !pip install gensim\n",
    "from gensim.models import word2vec\n",
    "import multiprocessing\n",
    "\n",
    "# 如果目录中有多个文件，可以使用PathLineSentences\n",
    "segment_folder = './three_kingdoms/segment'\n",
    "sentences = word2vec.PathLineSentences(segment_folder)\n",
    "\n",
    "# 设置模型参数，进行训练\n",
    "model = word2vec.Word2Vec(sentences, size=100, window=3, min_count=1)\n",
    "# print(model.wv.similarity('曹操'))\n",
    "# print(model.wv.similarity('曹操', '刘备'))\n",
    "# print(model.wv.most_similar(positive=['曹操', '刘备']))\n",
    "# print(model.wv.most_similar(positive=['曹操', '刘备'], negative=['张飞']))\n",
    "# 设置模型参数，进行训练\n",
    "model2 = word2vec.Word2Vec(sentences, size=128, window=5, min_count=5, workers=multiprocessing.cpu_count())\n",
    "# 保存模型\n",
    "model2.save('./models/word2Vec.model')\n",
    "print(model2.wv.most_similar(positive=['曹操'], topn=10))\n",
    "print(model2.wv.most_similar(positive=['曹操', '刘备'], negative=['张飞']))\n"
   ]
  },
  {
   "cell_type": "code",
   "execution_count": null,
   "metadata": {},
   "outputs": [],
   "source": []
  }
 ],
 "metadata": {
  "kernelspec": {
   "display_name": "Python 3",
   "language": "python",
   "name": "python3"
  },
  "language_info": {
   "codemirror_mode": {
    "name": "ipython",
    "version": 3
   },
   "file_extension": ".py",
   "mimetype": "text/x-python",
   "name": "python",
   "nbconvert_exporter": "python",
   "pygments_lexer": "ipython3",
   "version": "3.7.3"
  }
 },
 "nbformat": 4,
 "nbformat_minor": 2
}
